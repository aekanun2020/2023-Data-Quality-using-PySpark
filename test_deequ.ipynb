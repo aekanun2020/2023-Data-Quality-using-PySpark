{
 "cells": [
  {
   "cell_type": "code",
   "execution_count": 1,
   "id": "8edf9f8c",
   "metadata": {},
   "outputs": [],
   "source": [
    "#! pip install pydeequ"
   ]
  },
  {
   "cell_type": "code",
   "execution_count": 2,
   "id": "90032441",
   "metadata": {},
   "outputs": [],
   "source": [
    "#! apt-get install wget -y"
   ]
  },
  {
   "cell_type": "code",
   "execution_count": 3,
   "id": "0c267fa0",
   "metadata": {},
   "outputs": [],
   "source": [
    "#!wget https://repo1.maven.org/maven2/com/amazon/deequ/deequ/1.2.2-spark-3.0/deequ-1.2.2-spark-3.0.jar"
   ]
  },
  {
   "cell_type": "code",
   "execution_count": 4,
   "id": "8f6b7ab4",
   "metadata": {},
   "outputs": [
    {
     "name": "stdout",
     "output_type": "stream",
     "text": [
      "/opt/workspace/test\n"
     ]
    }
   ],
   "source": [
    "! pwd"
   ]
  },
  {
   "cell_type": "code",
   "execution_count": 5,
   "id": "83a96bc0",
   "metadata": {},
   "outputs": [
    {
     "name": "stdout",
     "output_type": "stream",
     "text": [
      "-rw-r--r-- 1 root root 1258590 Apr 28  2021 deequ-1.2.2-spark-3.0.jar\n"
     ]
    }
   ],
   "source": [
    "! ls -l *.jar"
   ]
  },
  {
   "cell_type": "code",
   "execution_count": 6,
   "id": "8af901d1",
   "metadata": {},
   "outputs": [
    {
     "name": "stderr",
     "output_type": "stream",
     "text": [
      "Please set env variable SPARK_VERSION\n",
      "23/04/24 15:32:38 WARN NativeCodeLoader: Unable to load native-hadoop library for your platform... using builtin-java classes where applicable\n",
      "Using Spark's default log4j profile: org/apache/spark/log4j-defaults.properties\n",
      "Setting default log level to \"WARN\".\n",
      "To adjust logging level use sc.setLogLevel(newLevel). For SparkR, use setLogLevel(newLevel).\n"
     ]
    }
   ],
   "source": [
    "from pyspark.sql import SparkSession\n",
    "from pydeequ.checks import Check, CheckLevel\n",
    "from pydeequ.verification import VerificationSuite\n",
    "\n",
    "# Initialize the Spark session\n",
    "from pyspark.sql import SparkSession\n",
    "\n",
    "spark = SparkSession.\\\n",
    "        builder.\\\n",
    "        appName(\"DEEQU\").\\\n",
    "        master(\"spark://spark-master:7077\").\\\n",
    "config(\"spark.jars\", \"/opt/workspace/test/deequ-1.2.2-spark-3.0.jar\").\\\n",
    "        config(\"spark.executor.memory\", \"3000m\").\\\n",
    "        config(\"spark.executor.cores\", \"2\").\\\n",
    "        config(\"spark.cores.max\", \"6\").\\\n",
    "        getOrCreate()"
   ]
  },
  {
   "cell_type": "code",
   "execution_count": 9,
   "id": "b751c3bc",
   "metadata": {},
   "outputs": [
    {
     "data": {
      "text/html": [
       "\n",
       "            <div>\n",
       "                <p><b>SparkSession - in-memory</b></p>\n",
       "                \n",
       "        <div>\n",
       "            <p><b>SparkContext</b></p>\n",
       "\n",
       "            <p><a href=\"http://878c5b7aa58e:4040\">Spark UI</a></p>\n",
       "\n",
       "            <dl>\n",
       "              <dt>Version</dt>\n",
       "                <dd><code>v3.0.0</code></dd>\n",
       "              <dt>Master</dt>\n",
       "                <dd><code>spark://spark-master:7077</code></dd>\n",
       "              <dt>AppName</dt>\n",
       "                <dd><code>DEEQU</code></dd>\n",
       "            </dl>\n",
       "        </div>\n",
       "        \n",
       "            </div>\n",
       "        "
      ],
      "text/plain": [
       "<pyspark.sql.session.SparkSession at 0xffff50a7b340>"
      ]
     },
     "execution_count": 9,
     "metadata": {},
     "output_type": "execute_result"
    }
   ],
   "source": [
    "spark"
   ]
  },
  {
   "cell_type": "code",
   "execution_count": 12,
   "id": "4b8002de",
   "metadata": {},
   "outputs": [],
   "source": [
    "# Sample data for demonstration purposes\n",
    "data = spark.createDataFrame([\n",
    "    (1, \"A\", 100),\n",
    "    (2, \"B\", None),\n",
    "    (3, \"C\", 200),\n",
    "    (4, None, 300),\n",
    "    (5, \"E\", None)\n",
    "], [\"id\", \"name\", \"value\"])"
   ]
  },
  {
   "cell_type": "code",
   "execution_count": 14,
   "id": "a4fa37e4",
   "metadata": {},
   "outputs": [
    {
     "name": "stdout",
     "output_type": "stream",
     "text": [
      "+---+----+-----+\n",
      "| id|name|value|\n",
      "+---+----+-----+\n",
      "|  1|   A|  100|\n",
      "|  2|   B| null|\n",
      "|  3|   C|  200|\n",
      "|  4|null|  300|\n",
      "|  5|   E| null|\n",
      "+---+----+-----+\n",
      "\n"
     ]
    }
   ],
   "source": [
    "data.show()"
   ]
  },
  {
   "cell_type": "code",
   "execution_count": 26,
   "id": "751e8c57",
   "metadata": {},
   "outputs": [],
   "source": [
    "from pydeequ.analyzers import AnalysisRunner, AnalyzerContext, ApproxCountDistinct, Completeness, Compliance, Mean, Size\n",
    "\n",
    "analysisResult = AnalysisRunner(spark).onData(data).addAnalyzer(Size()).addAnalyzer(Completeness(\"name\")).addAnalyzer(ApproxCountDistinct(\"name\"))\\\n",
    ".addAnalyzer(Mean(\"value\")).addAnalyzer(Compliance(\"value\", \"value > 200\")).run()"
   ]
  },
  {
   "cell_type": "code",
   "execution_count": 27,
   "id": "e9e8e0d5",
   "metadata": {},
   "outputs": [
    {
     "name": "stdout",
     "output_type": "stream",
     "text": [
      "+-------+--------+-------------------+-----+\n",
      "| entity|instance|               name|value|\n",
      "+-------+--------+-------------------+-----+\n",
      "|Dataset|       *|               Size|  5.0|\n",
      "| Column|   value|         Compliance|  0.2|\n",
      "| Column|    name|       Completeness|  0.8|\n",
      "| Column|    name|ApproxCountDistinct|  4.0|\n",
      "| Column|   value|               Mean|200.0|\n",
      "+-------+--------+-------------------+-----+\n",
      "\n"
     ]
    }
   ],
   "source": [
    "analysisResult_df = AnalyzerContext.successMetricsAsDataFrame(spark, analysisResult)\n",
    "analysisResult_df.show()"
   ]
  },
  {
   "cell_type": "code",
   "execution_count": null,
   "id": "3be769bc",
   "metadata": {},
   "outputs": [],
   "source": []
  }
 ],
 "metadata": {
  "kernelspec": {
   "display_name": "Python 3 (ipykernel)",
   "language": "python",
   "name": "python3"
  },
  "language_info": {
   "codemirror_mode": {
    "name": "ipython",
    "version": 3
   },
   "file_extension": ".py",
   "mimetype": "text/x-python",
   "name": "python",
   "nbconvert_exporter": "python",
   "pygments_lexer": "ipython3",
   "version": "3.9.2"
  }
 },
 "nbformat": 4,
 "nbformat_minor": 5
}
